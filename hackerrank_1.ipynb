{
  "nbformat": 4,
  "nbformat_minor": 0,
  "metadata": {
    "colab": {
      "name": "hackerrank_1.ipynb",
      "provenance": [],
      "collapsed_sections": [],
      "authorship_tag": "ABX9TyMAxqZfeEWK0lZG8ip6nIXh",
      "include_colab_link": true
    },
    "kernelspec": {
      "name": "python3",
      "display_name": "Python 3"
    },
    "language_info": {
      "name": "python"
    }
  },
  "cells": [
    {
      "cell_type": "markdown",
      "metadata": {
        "id": "view-in-github",
        "colab_type": "text"
      },
      "source": [
        "<a href=\"https://colab.research.google.com/github/zerix-T/learning_python_1/blob/main/hackerrank_1.ipynb\" target=\"_parent\"><img src=\"https://colab.research.google.com/assets/colab-badge.svg\" alt=\"Open In Colab\"/></a>"
      ]
    },
    {
      "cell_type": "code",
      "metadata": {
        "id": "UL7wLO1aV2gv"
      },
      "source": [
        "n = 17\n",
        "w = len('{0:b}'.format(n))\n",
        "for i in range(1,n+1):\n",
        "  print(\"{0:{width}d} {0:{width}o} {0:{width}X} {0:{width}b}\".format(i,width = w))"
      ],
      "execution_count": null,
      "outputs": []
    },
    {
      "cell_type": "code",
      "metadata": {
        "id": "W-78tVfVRf6x"
      },
      "source": [
        "\n",
        "\n",
        "if __name__ == '__main__':\n",
        "  x = []\n",
        "  n = int(input())\n",
        "  for i in range(0,n):\n",
        "    l = [l for l in input().split(' ')]\n",
        "    if l[0] == 'insert': x.insert(int(l[1]),int(l[2]))\n",
        "    elif l[0] == 'append': x.append(int(l[1]))\n",
        "    elif l[0] == 'remove': x.remove(int(l[1]))\n",
        "    elif l[0] == 'sort': x.sort()\n",
        "    elif l[0] == 'pop': x.pop()\n",
        "    elif l[0] == 'reverse': x.reverse()\n",
        "    elif l[0] == 'print': print(x)\n"
      ],
      "execution_count": null,
      "outputs": []
    },
    {
      "cell_type": "code",
      "metadata": {
        "id": "4CIdEeYux6Qo",
        "colab": {
          "base_uri": "https://localhost:8080/"
        },
        "outputId": "0ade9b46-942c-491e-a99b-733a97947fc0"
      },
      "source": [
        "h = 15\n",
        "a='4'\n",
        "for i in range(h):\n",
        "    print(\"-\"*(h-i),a*(i*2+1),\"-\"*(h-i),sep='')\n",
        "for i in range(h-2, -1, -1):\n",
        "    print(\"-\"*(h-i), a*(i*2+1),\"-\"*(h-i),sep='')"
      ],
      "execution_count": 2,
      "outputs": [
        {
          "output_type": "stream",
          "text": [
            "---------------4---------------\n",
            "--------------444--------------\n",
            "-------------44444-------------\n",
            "------------4444444------------\n",
            "-----------444444444-----------\n",
            "----------44444444444----------\n",
            "---------4444444444444---------\n",
            "--------444444444444444--------\n",
            "-------44444444444444444-------\n",
            "------4444444444444444444------\n",
            "-----444444444444444444444-----\n",
            "----44444444444444444444444----\n",
            "---4444444444444444444444444---\n",
            "--444444444444444444444444444--\n",
            "-44444444444444444444444444444-\n",
            "--444444444444444444444444444--\n",
            "---4444444444444444444444444---\n",
            "----44444444444444444444444----\n",
            "-----444444444444444444444-----\n",
            "------4444444444444444444------\n",
            "-------44444444444444444-------\n",
            "--------444444444444444--------\n",
            "---------4444444444444---------\n",
            "----------44444444444----------\n",
            "-----------444444444-----------\n",
            "------------4444444------------\n",
            "-------------44444-------------\n",
            "--------------444--------------\n",
            "---------------4---------------\n"
          ],
          "name": "stdout"
        }
      ]
    },
    {
      "cell_type": "code",
      "metadata": {
        "id": "IlfUOMSwaCrJ"
      },
      "source": [
        "import string\n",
        "alpha = string.ascii_lowercase\n",
        "\n",
        "n = int(input())\n",
        "L = []\n",
        "for i in range(n):\n",
        "    s = \"-\".join(alpha[i:n])\n",
        "    L.append((s[::-1]+s[1:]).center(4*n-3, \"-\"))\n",
        "print('\\n'.join(L[:0:-1]+L))"
      ],
      "execution_count": null,
      "outputs": []
    },
    {
      "cell_type": "code",
      "metadata": {
        "id": "rtp8dzfW5CMB"
      },
      "source": [
        "a,b = map(int,(input().split(' ')))\n",
        "for i in range(0,a):\n",
        "  if i < (a-1)//2: \n",
        "    print('-'*((b-3-6*i)//2),'.|.'*(2*i+1),'-'*((b-3-6*i)//2),sep=\"\")\n",
        "  elif i == (a-1)//2:\n",
        "    \n",
        "    print('-'*((b-7)//2),'WELCOME','-'*((b-7)//2),sep=\"\")\n",
        "  elif i > (a-1)//2:\n",
        "    print('-'*(i-((a-1)//2))*3,'.|.'*(2*(a-i)-1),'-'*(i-((a-1)//2))*3,sep=\"\")\n"
      ],
      "execution_count": null,
      "outputs": []
    },
    {
      "cell_type": "code",
      "metadata": {
        "id": "TC7Poc5Q0_8d"
      },
      "source": [
        "s = input()\n",
        "\n",
        "vowels = 'AEIOU'\n",
        "\n",
        "kevsc = 0\n",
        "stusc = 0\n",
        "for i in range(len(s)):\n",
        "    if s[i] in vowels:\n",
        "        kevsc += (len(s)-i)\n",
        "    else:\n",
        "        stusc += (len(s)-i)\n",
        "\n",
        "if kevsc > stusc:\n",
        "    print (\"Kevin\", kevsc)\n",
        "elif kevsc < stusc:\n",
        "    print (\"Stuart\", stusc)\n",
        "else:\n",
        "    print (\"Draw\")\n"
      ],
      "execution_count": null,
      "outputs": []
    },
    {
      "cell_type": "code",
      "metadata": {
        "colab": {
          "base_uri": "https://localhost:8080/"
        },
        "id": "JcfGDTXci3T6",
        "outputId": "576f9486-54da-4624-8bcb-0a3d2089e785"
      },
      "source": [
        "def merge_the_tools(string, k):\n",
        "    n = int(len(string)/k)\n",
        "    l = []\n",
        "    for i in range(0,n):\n",
        "        l.append(s[(i*k):((i+1)*k)])\n",
        "    for m in l:\n",
        "        print(\"\".join(dict.fromkeys(m)))\n",
        "    \n",
        "\n",
        "if __name__ == '__main__':\n",
        "    string, k = input(), int(input())\n",
        "    merge_the_tools(string, k)"
      ],
      "execution_count": null,
      "outputs": [
        {
          "output_type": "stream",
          "text": [
            "AABCAAADA\n",
            "3\n",
            "AB\n",
            "CA\n",
            "AD\n"
          ],
          "name": "stdout"
        }
      ]
    },
    {
      "cell_type": "code",
      "metadata": {
        "colab": {
          "base_uri": "https://localhost:8080/"
        },
        "id": "s1hVP-5zyz51",
        "outputId": "bf5c3a1f-d4d2-41b2-f5b2-39a1f71343ab"
      },
      "source": [
        "import textwrap\n",
        "\n",
        "def wrap(string, max_width):\n",
        "    wraper = textwrap.TextWrapper(width = max_width)\n",
        "    result = '\\n'.join(wraper.wrap(text = string))\n",
        "    return result\n",
        "\n",
        "if __name__ == '__main__':\n",
        "    string, max_width = input(), int(input())\n",
        "    result = wrap(string, max_width)\n",
        "    print(result)"
      ],
      "execution_count": null,
      "outputs": [
        {
          "output_type": "stream",
          "text": [
            "ABCDEFGHIJKLIMNOQRSTUVWXYZ\n",
            "4\n",
            "ABCD\n",
            "EFGH\n",
            "IJKL\n",
            "IMNO\n",
            "QRST\n",
            "UVWX\n",
            "YZ\n"
          ],
          "name": "stdout"
        }
      ]
    }
  ]
}