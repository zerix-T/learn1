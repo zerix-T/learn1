{
  "nbformat": 4,
  "nbformat_minor": 0,
  "metadata": {
    "colab": {
      "name": "hackerrank_2.ipynb",
      "provenance": [],
      "collapsed_sections": [],
      "authorship_tag": "ABX9TyOcndEPjELT0KyV8M9T7E+f",
      "include_colab_link": true
    },
    "kernelspec": {
      "name": "python3",
      "display_name": "Python 3"
    },
    "language_info": {
      "name": "python"
    }
  },
  "cells": [
    {
      "cell_type": "markdown",
      "metadata": {
        "id": "view-in-github",
        "colab_type": "text"
      },
      "source": [
        "<a href=\"https://colab.research.google.com/github/zerix-T/learning_python_1/blob/main/hackerrank_2.ipynb\" target=\"_parent\"><img src=\"https://colab.research.google.com/assets/colab-badge.svg\" alt=\"Open In Colab\"/></a>"
      ]
    },
    {
      "cell_type": "markdown",
      "metadata": {
        "id": "GHOXFq4mWT8W"
      },
      "source": [
        "[Maximize it](https://www.hackerrank.com/challenges/maximize-it/problem)"
      ]
    },
    {
      "cell_type": "code",
      "metadata": {
        "id": "g7_DTl8ZuMSC"
      },
      "source": [
        "from itertools import product\n",
        "n= 0\n",
        "k,m = map(int,input().split(' '))\n",
        "l = []\n",
        "for i in range (0,k):\n",
        "  a =list(map(int,input().split(' ')))\n",
        "  a.pop(0)\n",
        "  l.append(a)\n",
        "b = list(product(*l))\n",
        "for i in range(0,len(b)):\n",
        "  if (sum(map(lambda x:x*x,b[i])))%m > n:\n",
        "    n = (sum(map(lambda x:x*x,b[i])))%m \n",
        "\n",
        "print(n)\n"
      ],
      "execution_count": null,
      "outputs": []
    },
    {
      "cell_type": "markdown",
      "metadata": {
        "id": "azMq21EMuUnv"
      },
      "source": [
        "Capitalize the first char of names"
      ]
    },
    {
      "cell_type": "code",
      "metadata": {
        "id": "PH9jjYAs5Ppq"
      },
      "source": [
        "def sol(a):\n",
        "  b=''\n",
        "  a = a.split(' ')\n",
        "  for i in range(0,len(a)):\n",
        "    b = b+(a[i].capitalize())+' '\n",
        "  return b\n",
        "if __name__ == '__main__':\n",
        "  b = input()\n",
        "  print(sol(b))"
      ],
      "execution_count": null,
      "outputs": []
    },
    {
      "cell_type": "markdown",
      "metadata": {
        "id": "HMWDPCOptouI"
      },
      "source": [
        "[time zone difference with time](https://www.hackerrank.com/challenges/python-time-delta/problem)"
      ]
    },
    {
      "cell_type": "code",
      "metadata": {
        "id": "9QYrD3YYmVwk"
      },
      "source": [
        "from datetime import datetime\n",
        "t1 = 'Sat 02 May 2015 19:54:36 +0530'\n",
        "t2 = 'Fri 01 May 2015 13:54:36 -0000'\n",
        "time1 = datetime.strptime(t1,'%a %d %b %Y %X %z')\n",
        "time2 = datetime.strptime(t2,'%a %d %b %Y %X %z')\n",
        "diff = time1 - time2\n",
        "res = int(diff.total_seconds())\n",
        "\n",
        "print(res)\n"
      ],
      "execution_count": null,
      "outputs": []
    },
    {
      "cell_type": "markdown",
      "metadata": {
        "id": "ooHuPvg8O9BJ"
      },
      "source": [
        "To get the repeated char from the string and show them in ascending and then alphabeticall for same repetition\n"
      ]
    },
    {
      "cell_type": "code",
      "metadata": {
        "colab": {
          "base_uri": "https://localhost:8080/"
        },
        "id": "reDHMYYT0vNP",
        "outputId": "6c2691fa-8964-42a7-c938-e7e005cf4b93"
      },
      "source": [
        "from collections import Counter\n",
        "s = input()\n",
        "l = sorted(list(s))\n",
        "\n",
        "res = [key for key, value in Counter(l).most_common()]\n",
        "res1 = [value for key, value in Counter(l).most_common()]\n",
        " \n",
        "print(\"\\n\".join(\"{} {}\".format(x, y) for x, y in zip(res[:3], res1[:3])))\n"
      ],
      "execution_count": null,
      "outputs": [
        {
          "output_type": "stream",
          "name": "stdout",
          "text": [
            "mississippi\n",
            "i 4\n",
            "s 4\n",
            "p 2\n"
          ]
        }
      ]
    },
    {
      "cell_type": "code",
      "metadata": {
        "colab": {
          "base_uri": "https://localhost:8080/"
        },
        "id": "2vtwmjc_Yew8",
        "outputId": "7d13520b-2138-4cee-83b8-55d875a8173d"
      },
      "source": [
        "n=0\n",
        "l=[]\n",
        "N,M = map(int,input().split(' '))\n",
        "test=N\n",
        "while test%2 == 0:\n",
        "  test/=2\n",
        "  n+=1\n",
        "for i in range(1,M+1):\n",
        "  if i == N:\n",
        "    continue\n",
        "  m = 0\n",
        "  z=i\n",
        "  while z%2 == 0:\n",
        "    z/=2\n",
        "    m+=1\n",
        "  if m<n:\n",
        "    l.append(i)\n",
        "\n",
        "print(len(l))\n",
        "print(*l)\n",
        "  "
      ],
      "execution_count": null,
      "outputs": [
        {
          "output_type": "stream",
          "name": "stdout",
          "text": [
            "16 20\n",
            "19\n",
            "1 2 3 4 5 6 7 8 9 10 11 12 13 14 15 17 18 19 20\n"
          ]
        }
      ]
    },
    {
      "cell_type": "code",
      "metadata": {
        "id": "qnwCCqHV8gYR",
        "colab": {
          "base_uri": "https://localhost:8080/"
        },
        "outputId": "87ecd51a-8b4e-419a-b171-02b5afa47670"
      },
      "source": [
        "X,N = map(int,input().split())\n",
        "l1=list(map(int,input().split()))\n",
        "l2=list(map(int,input().split()))\n",
        "for i in l2:\n",
        "  if i == -1:\n",
        "    a = (l1[l2.index(i)]-l1[l2.index(i)-1])/2\n",
        "    b = N+1-(l1[l2.index(i)]-a)\n",
        "    print(a+b)\n",
        "\n",
        "\n"
      ],
      "execution_count": null,
      "outputs": [
        {
          "output_type": "stream",
          "name": "stdout",
          "text": [
            "3 10\n",
            "1 4 8\n",
            "1 -1 1\n",
            "10.0\n"
          ]
        }
      ]
    },
    {
      "cell_type": "code",
      "metadata": {
        "colab": {
          "base_uri": "https://localhost:8080/"
        },
        "id": "37T1LX4iUTMT",
        "outputId": "804bd865-1248-4aee-adaa-a15ab4916472"
      },
      "source": [
        "a = [(7, 10), (11, 13), (11, 15), (14, 20), (23, 39)]\n",
        "b = []\n",
        "c = []\n",
        "for begin,end in sorted(a):\n",
        "    if b and b[-1][1] >= begin - 1:\n",
        "        b[-1] = (b[-1][0], end)\n",
        "    else:\n",
        "        b.append((begin, end))\n",
        "\n",
        "for i in range(len(b)):\n",
        "  c.append(b[i][1]-b[i][0])\n",
        "\n",
        "print(sum(c))"
      ],
      "execution_count": null,
      "outputs": [
        {
          "output_type": "stream",
          "name": "stdout",
          "text": [
            "29\n"
          ]
        }
      ]
    },
    {
      "cell_type": "code",
      "metadata": {
        "id": "WO6evKr5nqWs"
      },
      "source": [
        "result =[]\n",
        "l1 =[]\n",
        "final=[]\n",
        "final_list=[]\n",
        "for i in range(int(input())):\n",
        "    N,M,v,k = map(int,input().split())\n",
        "    Ms = list(map(int,input().split()))\n",
        "    d = v*k\n",
        "    for j in range(0,M):\n",
        "        if Ms[j]-d < 0:\n",
        "            Ms[j]-d == 0\n",
        "        if Ms[j]+d > N:\n",
        "            Ms[j]+d == N\n",
        "        l1.append([Ms[j]-d,Ms[j]+d])\n",
        "        \n",
        "    for begin,end in sorted(l1):\n",
        "        if result and result[-1][1] >= begin - 1:\n",
        "            result[-1] = (result[-1][0], end)\n",
        "        else:\n",
        "            result.append((begin, end))\n",
        "    for z in range(len(result)):\n",
        "        final.append(result[z][1]-result[z][0])\n",
        "    final_list.append(sum(final))\n",
        "    final.clear()\n",
        "    l1.clear()\n",
        "    result.clear()\n",
        "    \n",
        "print(*final_list, sep = \"\\n\")\n",
        "    "
      ],
      "execution_count": null,
      "outputs": []
    },
    {
      "cell_type": "markdown",
      "source": [
        "[Collections Counter {level : easy}](https://www.hackerrank.com/challenges/collections-counter/problem?isFullScreen=false)"
      ],
      "metadata": {
        "id": "jhk3aG2Be9BT"
      }
    },
    {
      "cell_type": "code",
      "source": [
        "from collections import Counter\n",
        "\n",
        "x = int(input())\n",
        "list1 = list(map(int,input().split()))\n",
        "dict =  Counter(list1)\n",
        "sum = 0\n",
        "\n",
        "for i in range(int(input())):\n",
        "  a, b = map(int, input().split())\n",
        "  \n",
        "  if a in dict.keys() and dict[a] != 0 :\n",
        "    sum += b\n",
        "    dict[a]-=1\n",
        "\n",
        "print(sum)"
      ],
      "metadata": {
        "id": "AhrYgMu9QhKA"
      },
      "execution_count": null,
      "outputs": []
    },
    {
      "cell_type": "markdown",
      "source": [
        "To print right side prymid with numbers in ascending"
      ],
      "metadata": {
        "id": "8pW3f7qlwM_l"
      }
    },
    {
      "cell_type": "code",
      "source": [
        "for i in range(1,int(input())):\n",
        "    print(int(i*pow(10,i-1))+int(i*pow(10,i-2))+int(i*pow(10,i-3))+int(i*pow(10,i-4))+int(i*pow(10,i-5))+int(i*pow(10,i-6))+int(i*pow(10,i-7))+int(i*pow(10,i-8))+int(i*pow(10,i-9)))"
      ],
      "metadata": {
        "colab": {
          "base_uri": "https://localhost:8080/"
        },
        "id": "_hRBm0dIjbS2",
        "outputId": "6157f0ce-e845-42c6-a749-fce53fd4d6cd"
      },
      "execution_count": null,
      "outputs": [
        {
          "output_type": "stream",
          "name": "stdout",
          "text": [
            "9\n",
            "1\n",
            "22\n",
            "333\n",
            "4444\n",
            "55555\n",
            "666666\n",
            "7777777\n",
            "88888888\n"
          ]
        }
      ]
    },
    {
      "cell_type": "code",
      "source": [
        "def average(array):\n",
        "    return (sum(set(array))/len(set(array)))\n",
        "\n",
        "if __name__ == '__main__':\n",
        "    n = int(input())\n",
        "    arr = list(map(int, input().split()))\n",
        "    result = average(arr)\n",
        "    print(result)"
      ],
      "metadata": {
        "colab": {
          "base_uri": "https://localhost:8080/"
        },
        "id": "CYxmvtCXxMw7",
        "outputId": "e62c40de-13c7-48e5-a8f0-8c259d2f9d9f"
      },
      "execution_count": null,
      "outputs": [
        {
          "output_type": "stream",
          "name": "stdout",
          "text": [
            "10\n",
            "161 182 161 154 176 170 167 171 170 174 \n",
            "169.375\n"
          ]
        }
      ]
    },
    {
      "cell_type": "code",
      "source": [
        "a = '12:01:00AM'\n",
        "c = a\n",
        "if a[-2:] == 'AM' and int(a[:2]) == 12:\n",
        "  c = a.replace(a[:2],'00')\n",
        "elif a[-2:] == 'PM' and int(a[:2]) < 12:\n",
        "  b = \"% s\" %(int(a[:2])+12)\n",
        "  c = a.replace(a[:2],b)\n",
        "print(c[:-2])\n",
        "\n"
      ],
      "metadata": {
        "colab": {
          "base_uri": "https://localhost:8080/"
        },
        "id": "bqotEicK7rPT",
        "outputId": "218383e1-abb0-406d-c938-7dad2aed3556"
      },
      "execution_count": null,
      "outputs": [
        {
          "output_type": "stream",
          "name": "stdout",
          "text": [
            "00:01:00\n"
          ]
        }
      ]
    },
    {
      "cell_type": "code",
      "source": [
        "arr = [[11,2,4],[4,5,6],[10,8,-12]]\n",
        "a, b = 0, 0\n",
        "for i in range((len(arr)*2)):\n",
        "    if i <= (len(arr)-1):\n",
        "        a += arr[i][i]\n",
        "    else: b+= arr[i-len(arr)][-(i-len(arr)+1)]\n",
        "x = abs(a-b)\n",
        "print(x)"
      ],
      "metadata": {
        "colab": {
          "base_uri": "https://localhost:8080/"
        },
        "id": "l5r9K7KGDTsN",
        "outputId": "36f6a966-73b3-42da-e9e1-19f727c54eff"
      },
      "execution_count": null,
      "outputs": [
        {
          "output_type": "stream",
          "name": "stdout",
          "text": [
            "15\n"
          ]
        }
      ]
    },
    {
      "cell_type": "markdown",
      "source": [
        "[Google kickstart practice problem](https://drive.google.com/file/d/1pO-XwUatoRIe51FuM1GiDx0LGPMvRYPz/view?usp=sharing)"
      ],
      "metadata": {
        "id": "rMGD49DrvFBw"
      }
    },
    {
      "cell_type": "code",
      "source": [
        "def get_ruler(kingdom):\n",
        "  v = ['A', 'E', 'I', 'O', 'U', 'a', 'e', 'i', 'o', 'u']\n",
        "  if kingdom[-1] in v:\n",
        "    ruler = 'Alice'\n",
        "  elif (kingdom[-1] == 'y' or kingdom[-1]=='Y'):\n",
        "    ruler = 'nobody'\n",
        "  else: ruler = 'Bob'\n",
        "  return ruler\n",
        "\n",
        "def main():\n",
        "  T = int(input())\n",
        "  for t in range(T):\n",
        "    kingdom = input()\n",
        "    print('Case #%d: %s is ruled by %s.' % (t + 1, kingdom, get_ruler(kingdom)))\n",
        "\n",
        "if __name__ == '__main__':\n",
        "  main()"
      ],
      "metadata": {
        "colab": {
          "base_uri": "https://localhost:8080/"
        },
        "id": "QFNvlJHZV6zC",
        "outputId": "b612420a-b6ba-4a36-b9c5-d6f072fe6f76"
      },
      "execution_count": null,
      "outputs": [
        {
          "output_type": "stream",
          "name": "stdout",
          "text": [
            "3\n",
            "Mollaristan\n",
            "Case #1: Mollaristan is ruled by Bob.\n",
            "Auritania\n",
            "Case #2: Auritania is ruled by Alice.\n",
            "Zizily\n",
            "Case #3: Zizily is ruled by nobody.\n"
          ]
        }
      ]
    },
    {
      "cell_type": "code",
      "source": [
        "heros=['spider man','thor','hulk','iron man','captain america']\n",
        "len = 0\n",
        "for _ in heros:len+=1\n",
        "print(len)\n",
        "heros.append('black panther')\n",
        "heros.remove('black panther')\n",
        "heros.insert(3, 'black panther')\n",
        "print(heros)\n",
        "l = heros[:1]+['doctor strange']+heros[3:]\n",
        "#heros[1:3] = ['doctor strange']\n",
        "l.sort()\n",
        "print(l)\n",
        "#print(*dir(list) ,sep='\\n')\n",
        "\n",
        "\n"
      ],
      "metadata": {
        "id": "SPV8OLsq7k7V",
        "colab": {
          "base_uri": "https://localhost:8080/"
        },
        "outputId": "43de5ad1-d41c-4af0-d8a6-372226580649"
      },
      "execution_count": null,
      "outputs": [
        {
          "output_type": "stream",
          "name": "stdout",
          "text": [
            "5\n",
            "['spider man', 'thor', 'hulk', 'black panther', 'iron man', 'captain america']\n",
            "['spider man', 'doctor strange', 'black panther', 'iron man', 'captain america']\n"
          ]
        }
      ]
    }
  ]
}