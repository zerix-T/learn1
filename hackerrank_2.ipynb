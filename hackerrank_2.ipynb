{
  "nbformat": 4,
  "nbformat_minor": 0,
  "metadata": {
    "colab": {
      "name": "hackerrank_2.ipynb",
      "provenance": [],
      "collapsed_sections": [],
      "authorship_tag": "ABX9TyN9jqcAmT8cIGMW5dVzDWze",
      "include_colab_link": true
    },
    "kernelspec": {
      "name": "python3",
      "display_name": "Python 3"
    },
    "language_info": {
      "name": "python"
    }
  },
  "cells": [
    {
      "cell_type": "markdown",
      "metadata": {
        "id": "view-in-github",
        "colab_type": "text"
      },
      "source": [
        "<a href=\"https://colab.research.google.com/github/zerix-T/learning_python_1/blob/main/hackerrank_2.ipynb\" target=\"_parent\"><img src=\"https://colab.research.google.com/assets/colab-badge.svg\" alt=\"Open In Colab\"/></a>"
      ]
    },
    {
      "cell_type": "markdown",
      "metadata": {
        "id": "GHOXFq4mWT8W"
      },
      "source": [
        "[link text](https://www.hackerrank.com/challenges/maximize-it/problem)"
      ]
    },
    {
      "cell_type": "code",
      "metadata": {
        "colab": {
          "base_uri": "https://localhost:8080/"
        },
        "id": "g7_DTl8ZuMSC",
        "outputId": "50e0418a-5d3f-43eb-ff88-6574061538bf"
      },
      "source": [
        "from itertools import product\n",
        "n= 0\n",
        "k,m = map(int,input().split(' '))\n",
        "l = []\n",
        "for i in range (0,k):\n",
        "  a =list(map(int,input().split(' ')))\n",
        "  a.pop(0)\n",
        "  l.append(a)\n",
        "b = list(product(*l))\n",
        "for i in range(0,len(b)):\n",
        "  if (sum(map(lambda x:x*x,b[i])))%m > n:\n",
        "    n = (sum(map(lambda x:x*x,b[i])))%m \n",
        "\n",
        "print(n)\n"
      ],
      "execution_count": 12,
      "outputs": [
        {
          "output_type": "stream",
          "text": [
            "3 1000\n",
            "2 5 4\n",
            "3 7 8 9\n",
            "5 5 7 8 9 10\n",
            "206\n"
          ],
          "name": "stdout"
        }
      ]
    }
  ]
}